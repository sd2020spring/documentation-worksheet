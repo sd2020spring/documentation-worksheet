{
 "cells": [
  {
   "cell_type": "markdown",
   "metadata": {},
   "source": [
    "# Documentation Worksheet"
   ]
  },
  {
   "cell_type": "markdown",
   "metadata": {},
   "source": [
    "This worksheet is designed to help you learn how to document your software in a way that makes it more accessible to various audiences."
   ]
  },
  {
   "cell_type": "markdown",
   "metadata": {},
   "source": [
    "## Markdown Formatting"
   ]
  },
  {
   "cell_type": "markdown",
   "metadata": {},
   "source": [
    "Markdown is a simple language used to format text. You have already seen examples of text written in Markdown: most README files (which you see when you visit a GitHub repository, and which we talk about below) and non-code cells in Jupyter notebooks are written in Markdown. You can double-click any non-code cell in this notebook to see how formatted text is written in Markdown.\n",
    "\n",
    "Learning Markdown will help you quickly write well-formatted text for documenting your software projects."
   ]
  },
  {
   "cell_type": "markdown",
   "metadata": {},
   "source": [
    "### Learning Markdown"
   ]
  },
  {
   "cell_type": "markdown",
   "metadata": {},
   "source": [
    "If you're not already familiar with Markdown, start by reading GitHub's [Mastering Markdown](https://guides.github.com/features/mastering-markdown/) page. Feel free to create any addiitonal cells you'd like below to practice different types of Markdown syntax."
   ]
  },
  {
   "cell_type": "markdown",
   "metadata": {},
   "source": [
    "### Exercise: Writing in Markdown"
   ]
  },
  {
   "cell_type": "markdown",
   "metadata": {},
   "source": [
    "Write a paragraph or two below that argues why the reader should prefer one thing to another, comparable thing (e.g., Coke over Pepsi). The topic is up to you, though try to make the topic accessible to a range of readers.\n",
    "\n",
    "Your text should include at least one image and one link. This is also a good opportunity to practice your Markdown syntax as well - use whatever formatting you feel will help you make your argument."
   ]
  },
  {
   "cell_type": "markdown",
   "metadata": {},
   "source": [
    "#### Argument Title (replace this with your title)"
   ]
  },
  {
   "cell_type": "markdown",
   "metadata": {},
   "source": [
    "(your paragraph goes here)"
   ]
  },
  {
   "cell_type": "markdown",
   "metadata": {},
   "source": [
    "## READMEs"
   ]
  },
  {
   "cell_type": "markdown",
   "metadata": {},
   "source": [
    "README files are important for orienting the reader to part of all of your project. Virtually every widely-used and successful software project has a README to cover details such as what the project does and how to use it.\n",
    "\n",
    "Learning how to write a good README will help you highlight the awesome parts of your projects while communicating the necessary information for people to engage with your software."
   ]
  },
  {
   "cell_type": "markdown",
   "metadata": {},
   "source": [
    "### README Guides"
   ]
  },
  {
   "cell_type": "markdown",
   "metadata": {},
   "source": [
    "Below are links to guides in various formats that describe good READMEs:\n",
    "\n",
    "* [Making READMEs readable](https://github.com/18F/open-source-guide/blob/18f-pages/pages/making-readmes-readable.md)\n",
    "* [Starting an Open Source Project: Writing a README](https://opensource.guide/starting-a-project/#writing-a-readme)\n",
    "* [README 101](https://www.makeareadme.com/)\n",
    "* [PurpleBooth's README template](https://gist.github.com/PurpleBooth/109311bb0361f32d87a2)\n",
    "\n",
    "Read these guides, and spend some time thinking about what makes a good README."
   ]
  },
  {
   "cell_type": "markdown",
   "metadata": {},
   "source": [
    "### Exercise: Good and Appropriate READMEs"
   ]
  },
  {
   "cell_type": "markdown",
   "metadata": {},
   "source": [
    "The readings should have given you some ideas about what information is in a good README for widely-used software projects, but every type of information does not need to be included in every project.\n",
    "\n",
    "For this exercise, think about your mini-project on text mining, and list appropriate pieces of information that you would include in the README for this project."
   ]
  },
  {
   "cell_type": "markdown",
   "metadata": {},
   "source": [
    "(your list goes here)"
   ]
  },
  {
   "cell_type": "markdown",
   "metadata": {},
   "source": [
    "Now, list pieces of information that you think are good to include in READMEs, but not in your README for your text mining mini-project."
   ]
  },
  {
   "cell_type": "markdown",
   "metadata": {},
   "source": [
    "(your list goes here)"
   ]
  },
  {
   "cell_type": "markdown",
   "metadata": {},
   "source": [
    "Write a few sentences describing why you split the list in this way."
   ]
  },
  {
   "cell_type": "markdown",
   "metadata": {},
   "source": [
    "(your answer goes here)"
   ]
  },
  {
   "cell_type": "markdown",
   "metadata": {},
   "source": [
    "### Displaying READMEs"
   ]
  },
  {
   "cell_type": "markdown",
   "metadata": {},
   "source": [
    "Once you've written the README, you can display it for your users relatively easily. In GitHub, adding a file called `README.md` (the `.md` stands for Markdown) in any folder, including the root of the repository, will cause the webpage for that folder to display the formatted contents of the README."
   ]
  },
  {
   "cell_type": "markdown",
   "metadata": {},
   "source": [
    "### Optional Exercise: Awesome READMEs"
   ]
  },
  {
   "cell_type": "markdown",
   "metadata": {},
   "source": [
    "Find a GitHub project with an awesome README. It should ideally be informative and persuasive and have a good aesthetic.\n",
    "\n",
    "Paste the link and write a few sentences about what you think makes this README particularly excellent."
   ]
  },
  {
   "cell_type": "markdown",
   "metadata": {},
   "source": [
    "Link: (fill this in)"
   ]
  },
  {
   "cell_type": "markdown",
   "metadata": {},
   "source": [
    "(why you think the README is great)"
   ]
  },
  {
   "cell_type": "markdown",
   "metadata": {},
   "source": [
    "## Documenting Code"
   ]
  },
  {
   "cell_type": "markdown",
   "metadata": {},
   "source": [
    "### Learning Docstring Styles"
   ]
  },
  {
   "cell_type": "markdown",
   "metadata": {},
   "source": [
    "Below are some guides about how to format docstrings in Python:\n",
    "\n",
    "* [Python Docstrings: Reference and Examples](http://queirozf.com/entries/python-docstrings-reference-examples) shows docstrings in different styles.\n",
    "* [Google Python Style Guide: Comments and Docstrings](https://google.github.io/styleguide/pyguide.html#38-comments-and-docstrings) is the official guide for Google-style docstrings.\n",
    "\n",
    "Read through these to get a sense of what type of information to convey in docstrings, and the ways of formatting this information."
   ]
  },
  {
   "cell_type": "markdown",
   "metadata": {},
   "source": [
    "### Variable Names and Code-level Comments"
   ]
  },
  {
   "cell_type": "markdown",
   "metadata": {},
   "source": [
    "*TODO*: Fill this in with more detail.\n",
    "\n",
    "* Assume that the reader knows at least as much Python/programming as you do.\n",
    "* Focus on _why_ you wrote this block of code.\n",
    "* Variable names should talk about what they _represent_, so names like `count`, `index`, etc., are not generally considered good names."
   ]
  },
  {
   "cell_type": "markdown",
   "metadata": {},
   "source": [
    "### Exercise: Document Sample Functions"
   ]
  },
  {
   "cell_type": "markdown",
   "metadata": {},
   "source": [
    "Below is a class with two simple functions. Document the class and functions in the style of your choice."
   ]
  },
  {
   "cell_type": "code",
   "execution_count": 2,
   "metadata": {},
   "outputs": [],
   "source": [
    "# TODO: Fill this in"
   ]
  },
  {
   "cell_type": "markdown",
   "metadata": {},
   "source": [
    "## Exercise: Documenting a Full Project"
   ]
  },
  {
   "cell_type": "markdown",
   "metadata": {},
   "source": [
    "For your last exercise, choose a previous project from this course, and document it according to the guidelines that we have covered in this course. This means that, at a minimum, your project should have:\n",
    "\n",
    "* A descriptive name\n",
    "* A project-level README\n",
    "* Google-style documentation for all classes and functions\n",
    "\n",
    "It's best if your code also has clear variable names and comments explaining any complex blocks of code.\n",
    "\n",
    "If your docstrings contain doctest unit tests, you can leave these in, but make sure that they appear at the end of the docstring.\n",
    "\n",
    "Once you've done this, link to your project and write a paragraph or two below that describes the changes you made and how these changes help others understand your code better. As you do this, it's probably helpful to think about who would benefit most from the changes you have made (you, others familiar with the project, non-programmers, etc)."
   ]
  },
  {
   "cell_type": "markdown",
   "metadata": {},
   "source": [
    "Link: (fill this in)"
   ]
  },
  {
   "cell_type": "markdown",
   "metadata": {},
   "source": [
    "### Summary of Changes"
   ]
  },
  {
   "cell_type": "markdown",
   "metadata": {},
   "source": [
    "(your paragraphs go here)"
   ]
  },
  {
   "cell_type": "markdown",
   "metadata": {},
   "source": [
    "## Survey"
   ]
  },
  {
   "cell_type": "markdown",
   "metadata": {},
   "source": [
    "We'd really appreciate your feedback to help us improve future worksheets. Please consider answering the questions below."
   ]
  },
  {
   "cell_type": "markdown",
   "metadata": {},
   "source": [
    "1. How many hours did you spend on this worksheet?"
   ]
  },
  {
   "cell_type": "markdown",
   "metadata": {},
   "source": [
    "(your answer goes here)"
   ]
  },
  {
   "cell_type": "markdown",
   "metadata": {},
   "source": [
    "2. What parts of this worksheet were most helpful to your learning?"
   ]
  },
  {
   "cell_type": "markdown",
   "metadata": {},
   "source": [
    "(your answer goes here)"
   ]
  },
  {
   "cell_type": "markdown",
   "metadata": {},
   "source": [
    "3. What changes could we make to this worksheet that would make it more helpful for your learning?"
   ]
  },
  {
   "cell_type": "markdown",
   "metadata": {},
   "source": [
    "(your answer goes here)"
   ]
  }
 ],
 "metadata": {
  "kernelspec": {
   "display_name": "Python 3",
   "language": "python",
   "name": "python3"
  },
  "language_info": {
   "codemirror_mode": {
    "name": "ipython",
    "version": 3
   },
   "file_extension": ".py",
   "mimetype": "text/x-python",
   "name": "python",
   "nbconvert_exporter": "python",
   "pygments_lexer": "ipython3",
   "version": "3.8.2"
  }
 },
 "nbformat": 4,
 "nbformat_minor": 2
}
